{
 "cells": [
  {
   "cell_type": "markdown",
   "metadata": {},
   "source": [
    "<img style=\"float: left;\" src=\"earth-lab-logo-rgb.png\" width=\"150\" height=\"150\" />\n",
    "\n",
    "# Earth Analytics Education - EA  Python Course Spring 2021"
   ]
  },
  {
   "cell_type": "markdown",
   "metadata": {},
   "source": [
    "## Important  - Assignment Guidelines\n",
    "\n",
    "1. Before you submit your assignment to GitHub, make sure to run the entire notebook with a fresh kernel. To do this first, **restart the kernel** (in the menubar, select Kernel$\\rightarrow$Restart & Run All)\n",
    "2. Always replace the `raise NotImplementedError()` code with your code that addresses the activity challenge. If you don't replace that code, your notebook will not run.\n",
    "\n",
    "```\n",
    "# YOUR CODE HERE\n",
    "raise NotImplementedError()\n",
    "```\n",
    "\n",
    "3. Any open ended questions will have a \"YOUR ANSWER HERE\" within a markdown cell. Replace that text with your answer also formatted using Markdown.\n",
    "4. **DO NOT RENAME THIS NOTEBOOK File!** If the file name changes, the autograder will not grade your assignment properly.\n",
    "6. When you create a figure, comment out `plt.show()` to ensure the autograder can grade your plots. For figure cells, DO NOT DELETE the code that says `DO NOT REMOVE LINE BELOW`.\n",
    "\n",
    "```\n",
    "### DO NOT REMOVE LINE BELOW ###\n",
    "student_plot1_ax = nb.convert_axes(plt)\n",
    "```\n",
    "\n",
    "* Only include the package imports, code, and outputs that are required to run your homework assignment.\n",
    "* Be sure that your code can be run on any operating system. This means that:\n",
    "   1. the data should be downloaded in the notebook to ensure it's reproducible\n",
    "   2. all paths should be created dynamically using the `os.path.join`\n",
    "\n",
    "## Follow to PEP 8 Syntax Guidelines & Documentation\n",
    "\n",
    "* Run the `autopep8` tool on all cells prior to submitting (HINT: hit shift + the tool to run it on all cells at once!\n",
    "* Use clear and expressive names for variables. \n",
    "* Organize your code to support readability.\n",
    "* Check for code line length\n",
    "* Use comments and white space sparingly where it is needed\n",
    "* Make sure all python imports are at the top of your notebook and follow PEP 8 order conventions\n",
    "* Spell check your Notebook before submitting it.\n",
    "\n",
    "For all of the plots below, be sure to do the following:\n",
    "\n",
    "* Make sure each plot has a clear TITLE and, where appropriate, label the x and y axes. Be sure to include UNITS in your labels.\n"
   ]
  },
  {
   "cell_type": "markdown",
   "metadata": {},
   "source": [
    "### Add Your Name Below \n",
    "**Your Name:**"
   ]
  },
  {
   "cell_type": "markdown",
   "metadata": {},
   "source": [
    "<img style=\"float: left;\" src=\"colored-bar.png\"/>"
   ]
  },
  {
   "cell_type": "markdown",
   "metadata": {},
   "source": [
    "---"
   ]
  },
  {
   "cell_type": "markdown",
   "metadata": {
    "deletable": false,
    "editable": false,
    "nbgrader": {
     "cell_type": "markdown",
     "checksum": "a35c626f3d89f418b159fca86f789308",
     "grade": false,
     "grade_id": "hw-instructions",
     "locked": true,
     "schema_version": 3,
     "solution": false,
     "task": false
    }
   },
   "source": [
    "# What the fork?!  Who did this?!\n",
    "\n",
    "You have started working on a project that was previously managed by a colleague who has left your organization.\n",
    "\n",
    "However, after trying to run the notebook, you see that the code in this notebook has some issues with: \n",
    "* reproducibility, \n",
    "* file names, \n",
    "* and code that does not execute successfully. \n",
    "\n",
    "There are also some PEP 8 issues that make it hard to follow the workflow.\n",
    "\n",
    "Your task is to:\n",
    "\n",
    "1. Uncomment all of the code in the cells. (A keyboard shortcut for this is \"Shift + /\")\n",
    "2. Make this notebook run without errors.\n",
    "3. Make sure all of the code follows PEP 8 Standards. \n",
    "4. Make the code more readable by using white space, and removing unused imports and code.\n",
    "5. Ensure reproducibility by checking that ALL NEEDED imports are at the top and that the data are downloaded in the notebook. Be sure to remove unused imports.\n",
    "\n",
    "Throughout the notebook, you will be asked to describe how you modified / improved the code. You will provide your explanation using Markdown cells. \n",
    "\n",
    "HINT: you may consider cleaning up the notebook first and then going back and answering the questions. Or consider taking notes about what you changed in each cell and then answering the questions. This is just an optional approach. \n",
    "\n",
    "HINT 2: You can use the autopep8 tool in Jupyter to automagically fix spacing issues in your code. **Shift +** hitting the tool icon in jupyter will run it on every cell!! Use this to make your life easier! \n",
    "\n",
    "(However, remember that that autopep8 does not fix all PEP 8 issues!)\n",
    "\n",
    "### IMPORTANT\n",
    "In the cells below you can delete all instances of: \n",
    "```\n",
    "# YOUR CODE HERE\n",
    "raise NotImplementedError()\n",
    "```\n",
    "\n",
    "In this notebook you will be fixing code - NOT WRITING NEW CODE"
   ]
  },
  {
   "cell_type": "markdown",
   "metadata": {
    "deletable": false,
    "editable": false,
    "nbgrader": {
     "cell_type": "markdown",
     "checksum": "d29222d0af47e8eea9fa6dfd33407f52",
     "grade": false,
     "grade_id": "bar-1",
     "locked": true,
     "schema_version": 3,
     "solution": false,
     "task": false
    }
   },
   "source": [
    "![Colored Bar](colored-bar.png)"
   ]
  },
  {
   "cell_type": "code",
   "execution_count": null,
   "metadata": {
    "deletable": false,
    "editable": false,
    "nbgrader": {
     "cell_type": "code",
     "checksum": "22db016da4562864374fc0402b0edeae",
     "grade": false,
     "grade_id": "core-imports",
     "locked": true,
     "schema_version": 3,
     "solution": false,
     "task": false
    }
   },
   "outputs": [],
   "source": [
    "# Autograding imports - do not modify this cell\n",
    "import matplotcheck.notebook as nb\n",
    "import matplotcheck.autograde as ag\n",
    "import matplotcheck.base as pt"
   ]
  },
  {
   "cell_type": "code",
   "execution_count": null,
   "metadata": {
    "deletable": false,
    "nbgrader": {
     "cell_type": "code",
     "checksum": "fa5d2e92ff95e5f1db848c961aa8a2ec",
     "grade": true,
     "grade_id": "imports-answer",
     "locked": false,
     "points": 4,
     "schema_version": 3,
     "solution": true,
     "task": false
    }
   },
   "outputs": [],
   "source": [
    "# #import required libraries here\n",
    "# import numpy as np\n",
    "# import xarray as xr\n",
    "# import rioxarray as rxr\n",
    "# import warnings\n",
    "# import matplotlib.pyplot as plt\n",
    "# import rioxarray\n",
    "# import earthpy as et\n",
    "# import tweepy as tw\n",
    "# import python\n",
    "# import seaborn as sns\n",
    "# import itertools\n",
    "# import collections\n",
    "# import tweepy as tw\n",
    "# import nltk\n",
    "# from nltk import bigrams\n",
    "# from nltk.corpus import stopwords\n",
    "# import seaborn as sns\n",
    "# from shapely.geometry import mapping\n",
    "# from matplotlib.colors import ListedColormap, BoundaryNorm\n",
    "# from matplotlib.patches import Patch\n",
    "\n",
    "# os.chdir(os.path.join(et.io.HOME,\n",
    "#                       \"earth-analytics\",\n",
    "#                       \"data\"))\n",
    "# warnings.simplefilter('ignore')\n",
    "\n",
    "# YOUR CODE HERE\n",
    "raise NotImplementedError()"
   ]
  },
  {
   "cell_type": "code",
   "execution_count": null,
   "metadata": {
    "deletable": false,
    "editable": false,
    "nbgrader": {
     "cell_type": "code",
     "checksum": "ce05b5ba565cee9e8dad39788ebf2b10",
     "grade": true,
     "grade_id": "imports-tests",
     "locked": true,
     "points": 0,
     "schema_version": 3,
     "solution": false,
     "task": false
    }
   },
   "outputs": [],
   "source": []
  },
  {
   "cell_type": "markdown",
   "metadata": {
    "deletable": false,
    "editable": false,
    "nbgrader": {
     "cell_type": "markdown",
     "checksum": "5f4ec255fbbb414398d8695ed9d1641b",
     "grade": false,
     "grade_id": "imports-written-question",
     "locked": true,
     "schema_version": 3,
     "solution": false,
     "task": false
    }
   },
   "source": [
    "## Question 1 (8 points) \n",
    "\n",
    "1. What modifications did you make to the cell above to ensure it follows PEP 8 standards? \n",
    "2. What modifications did you make to the cell above to ensure it follows reproducibility conventions?\n",
    "\n",
    "Add your answer to the Markdown cell below."
   ]
  },
  {
   "cell_type": "markdown",
   "metadata": {
    "deletable": false,
    "nbgrader": {
     "cell_type": "markdown",
     "checksum": "2550597888d56d78ccfed6f57e84f038",
     "grade": true,
     "grade_id": "imports-written-answer",
     "locked": false,
     "points": 8,
     "schema_version": 3,
     "solution": true,
     "task": false
    }
   },
   "source": [
    "YOUR ANSWER HERE"
   ]
  },
  {
   "cell_type": "code",
   "execution_count": null,
   "metadata": {
    "deletable": false,
    "nbgrader": {
     "cell_type": "code",
     "checksum": "f389edd228202a7e739e99c8cd52fe68",
     "grade": true,
     "grade_id": "open-gpd",
     "locked": false,
     "points": 6,
     "schema_version": 3,
     "solution": true,
     "task": false
    }
   },
   "outputs": [],
   "source": [
    "# #Import SOAP plot locations\n",
    "\n",
    "# soap_data_path = os.path.join(\"data\", \"spatial-vector-lidar\", \"california\", \"neon-soap-site\")\n",
    "\n",
    "# # Open up your plot locations from shapefile that is in the vector_data directory under neon_soap_site\n",
    "# soap_centroids_path = os.path.join(soap_data_path, \"Vector_Data\", \"SOAP_plot_centroids.shp\")\n",
    "\n",
    "# soap_plot_points = gpd.read_file(soap_centroids_path)\n",
    "\n",
    "# YOUR CODE HERE\n",
    "raise NotImplementedError()"
   ]
  },
  {
   "cell_type": "markdown",
   "metadata": {
    "deletable": false,
    "editable": false,
    "nbgrader": {
     "cell_type": "markdown",
     "checksum": "f87d03a53f0c851e02fa62a3ab1e56c6",
     "grade": false,
     "grade_id": "open-gpd-question",
     "locked": true,
     "schema_version": 3,
     "solution": false,
     "task": false
    }
   },
   "source": [
    "## Question 2 (10 points)\n",
    "\n",
    "1. Why did the cell above fail to run?\n",
    "2. Were there any PEP 8 or reproducibility issues in this cell? Explain your answer.\n",
    "\n",
    "Add your answer to the Markdown cell below."
   ]
  },
  {
   "cell_type": "markdown",
   "metadata": {
    "deletable": false,
    "nbgrader": {
     "cell_type": "markdown",
     "checksum": "e0704748a5c8d829f4e57156edb32f48",
     "grade": true,
     "grade_id": "open-gpd-answer",
     "locked": false,
     "points": 10,
     "schema_version": 3,
     "solution": true,
     "task": false
    }
   },
   "source": [
    "YOUR ANSWER HERE"
   ]
  },
  {
   "cell_type": "code",
   "execution_count": null,
   "metadata": {
    "deletable": false,
    "editable": false,
    "nbgrader": {
     "cell_type": "code",
     "checksum": "353d8204744881f39056bc2174d8245d",
     "grade": true,
     "grade_id": "open-gpd-autograde",
     "locked": true,
     "points": 6,
     "schema_version": 3,
     "solution": false,
     "task": false
    }
   },
   "outputs": [],
   "source": [
    "# DO NOT MODIFY - AUTOGRADE\n"
   ]
  },
  {
   "cell_type": "markdown",
   "metadata": {
    "deletable": false,
    "editable": false,
    "nbgrader": {
     "cell_type": "markdown",
     "checksum": "27a27a8752f95829ecae883d98d3048a",
     "grade": false,
     "grade_id": "raster-instructions",
     "locked": true,
     "schema_version": 3,
     "solution": false,
     "task": false
    }
   },
   "source": [
    "# Part 2 - Spatial Things\n",
    "\n",
    "Open the SOAP lidar CHM file. Read in the data."
   ]
  },
  {
   "cell_type": "code",
   "execution_count": null,
   "metadata": {
    "deletable": false,
    "nbgrader": {
     "cell_type": "code",
     "checksum": "0b083f41f597d940725fc32c44318aba",
     "grade": true,
     "grade_id": "raster-answer",
     "locked": false,
     "points": 0,
     "schema_version": 3,
     "solution": true,
     "task": false
    }
   },
   "outputs": [],
   "source": [
    "# soap_chm_path = \"C:\\\\earth-analytics\\\\data\\\\spatial-vector-lidar\\\\california\\\\neon-soap-site\\\\2013\\\\lidar\\\\SJER_lidarCHM.tif\"\n",
    "\n",
    "# soap_chm_path_data = os.path.join(soap_chm_path,\n",
    "#                              \"2013\",\n",
    "#                              \"lidar\",\n",
    "#                              \"SOAP_lidarCHM.tif\")\n",
    "\n",
    "# soap_lidar_chm = rxr.open_rasterio(soap_chm_path), masked=True, squeezed=True)\n",
    "\n",
    "# soap_plot_extent = list(soap_lidar_chm.rio.bounds())\n",
    "# soap_plot_extent[1], soap_plot_extent[2] = soap_plot_extent[2], soap_plot_extent[1]\n",
    "# soap_plot_extent = tuple(list(soap_plot_extent))\n",
    "\n",
    "# YOUR CODE HERE\n",
    "raise NotImplementedError()"
   ]
  },
  {
   "cell_type": "markdown",
   "metadata": {
    "deletable": false,
    "editable": false,
    "nbgrader": {
     "cell_type": "markdown",
     "checksum": "3347b1a6a5b6f8338b29bdbcfbab6a6d",
     "grade": false,
     "grade_id": "raster-quesion",
     "locked": true,
     "schema_version": 3,
     "solution": false,
     "task": false
    }
   },
   "source": [
    "## Question 3 (12 points)\n",
    "\n",
    "1. Why is a context manager useful when opening up files?\n",
    "2. How did you change the code above to make it run? (Note: it should read in the lidar canopy height model for the NEON SOAP field site.)\n",
    "\n",
    "Add your answer to the Markdown cell below."
   ]
  },
  {
   "cell_type": "markdown",
   "metadata": {
    "deletable": false,
    "nbgrader": {
     "cell_type": "markdown",
     "checksum": "2b5ea3a8d303f8cfa331ad8c821d3122",
     "grade": true,
     "grade_id": "raster-written-answer",
     "locked": false,
     "points": 12,
     "schema_version": 3,
     "solution": true,
     "task": false
    }
   },
   "source": [
    "YOUR ANSWER HERE"
   ]
  },
  {
   "cell_type": "code",
   "execution_count": null,
   "metadata": {
    "deletable": false,
    "editable": false,
    "nbgrader": {
     "cell_type": "code",
     "checksum": "bc63762ba80a8d023f909f0100a6d209",
     "grade": true,
     "grade_id": "raster-tests",
     "locked": true,
     "points": 6,
     "schema_version": 3,
     "solution": false,
     "task": false
    }
   },
   "outputs": [],
   "source": [
    "# Ignore this cell for autograded tests\n"
   ]
  },
  {
   "cell_type": "markdown",
   "metadata": {
    "deletable": false,
    "editable": false,
    "nbgrader": {
     "cell_type": "markdown",
     "checksum": "30889993e7dc9a264aee521fc962e16d",
     "grade": false,
     "grade_id": "plotting-question",
     "locked": true,
     "schema_version": 3,
     "solution": false,
     "task": false
    }
   },
   "source": [
    "## Plot Soaproot Saddle (SOAP) Plot Locations on Top of the SOAP CHM\n",
    "\n",
    "In the cell below, create a plot of the canopy height model for SOAP that you imported above. Overlay the plot locations on top of your plot. \n",
    "\n",
    "HINT: The lesson below has an example of vector points overlayed on top of a raster. \n",
    "\n",
    "https://www.earthdatascience.org/courses/use-data-open-source-python/spatial-data-applications/lidar-remote-sensing-uncertainty/summarize-and-compare-lidar-insitu-tree-height/#create-map-of-plot-locations-sized-by-tree-height"
   ]
  },
  {
   "cell_type": "code",
   "execution_count": null,
   "metadata": {
    "deletable": false,
    "nbgrader": {
     "cell_type": "code",
     "checksum": "b4aeb773792668b07b66f2750c73aa4a",
     "grade": true,
     "grade_id": "plotting-answer",
     "locked": false,
     "points": 0,
     "schema_version": 3,
     "solution": true,
     "task": false
    }
   },
   "outputs": [],
   "source": [
    "# #plot SOAP Canopy Height Model with the plot locations overlayed on top\n",
    "# import earthpy.plot as ep\n",
    "\n",
    "# f, ax =plt.subplots(figsize=(5,8))\n",
    "\n",
    "# ep.plot_bands(soap_lidar_chm, cmap=\"Greys\", ax=ax, title=\"My Plot\")\n",
    "# soap_plot_points.plot(color=\"purple\")\n",
    "\n",
    "# YOUR CODE HERE\n",
    "raise NotImplementedError()"
   ]
  },
  {
   "cell_type": "markdown",
   "metadata": {
    "deletable": false,
    "editable": false,
    "nbgrader": {
     "cell_type": "markdown",
     "checksum": "278f1e459a4d401cd80c79f0b42e54ab",
     "grade": false,
     "grade_id": "plotting-questions",
     "locked": true,
     "schema_version": 3,
     "solution": false,
     "task": false
    }
   },
   "source": [
    "## Question 4 (15 points) \n",
    "\n",
    "1. How did you fix the code above? (10)\n",
    "2. What does the rasterio `plotting_extent()` function do? (5)\n",
    "\n",
    "Add your answer to the Markdown cell below."
   ]
  },
  {
   "cell_type": "markdown",
   "metadata": {
    "deletable": false,
    "nbgrader": {
     "cell_type": "markdown",
     "checksum": "230a10e89fc34105d2bc3c90d401f713",
     "grade": true,
     "grade_id": "plotting-written-answer",
     "locked": false,
     "points": 15,
     "schema_version": 3,
     "solution": true,
     "task": false
    }
   },
   "source": [
    "YOUR ANSWER HERE"
   ]
  },
  {
   "cell_type": "code",
   "execution_count": null,
   "metadata": {
    "deletable": false,
    "editable": false,
    "nbgrader": {
     "cell_type": "code",
     "checksum": "05b5cd012707aab7fc5c233cf4256d1f",
     "grade": true,
     "grade_id": "plotting-tests",
     "locked": true,
     "points": 5,
     "schema_version": 3,
     "solution": false,
     "task": false
    }
   },
   "outputs": [],
   "source": [
    "# Ignore this cell for autograded tests\n"
   ]
  },
  {
   "cell_type": "markdown",
   "metadata": {
    "deletable": false,
    "editable": false,
    "nbgrader": {
     "cell_type": "markdown",
     "checksum": "4bd853c61514601e0706a3fb01db7be4",
     "grade": false,
     "grade_id": "clipping-question",
     "locked": true,
     "schema_version": 3,
     "solution": false,
     "task": false
    }
   },
   "source": [
    "# Plots of Spatial Data\n",
    "\n",
    "In the cell below, open up the following layers:\n",
    "\n",
    "* `data/spatial-vector-lidar/global/ne_10m_roads/ne_10m_roads.shp`\n",
    "* `data/spatial-vector-lidar/california/CA_Counties/CA_Counties_TIGER2016.shp`\n",
    "\n",
    "Clip the roads layer to the boundary of the Fresno, Madera and Tulare counties. "
   ]
  },
  {
   "cell_type": "code",
   "execution_count": null,
   "metadata": {
    "deletable": false,
    "nbgrader": {
     "cell_type": "code",
     "checksum": "5984919df9d93d8d08020715807d38a8",
     "grade": false,
     "grade_id": "clipping-answer",
     "locked": false,
     "schema_version": 3,
     "solution": true,
     "task": false
    }
   },
   "outputs": [],
   "source": [
    "# calculate length of roads in Fresno, Madera, and Tular Counties\n",
    "# import earthpy.clip as cl\n",
    "\n",
    "#ne_roads = gpd.read_file('data//spatial-vector-lidar/global/ne_10m_roads/ne_10m_roads.shp')\n",
    "\n",
    "\n",
    "#cali_county_boundary = gpd.read_file('data/spatial-vector-lidar/california/CA_Counties/CA_Counties_TIGER2016.shp')\n",
    "\n",
    "\n",
    "#three_counties = cali_county_boundary[cali_county_boundary['NAME'].isin([\"Fresno\", \"Madera\", \"Tulare\"])]\n",
    "# Clip the data\n",
    "#county_roads = gpd.clip_shp(ne_roads, three_counties)\n",
    "# YOUR CODE HERE\n",
    "raise NotImplementedError()"
   ]
  },
  {
   "cell_type": "markdown",
   "metadata": {
    "deletable": false,
    "editable": false,
    "nbgrader": {
     "cell_type": "markdown",
     "checksum": "74a4e1c8f00a3489d07a94f26a58cfbd",
     "grade": false,
     "grade_id": "clipping-written-question",
     "locked": true,
     "schema_version": 3,
     "solution": false,
     "task": false
    }
   },
   "source": [
    "## Question 5 (8 points)\n",
    "\n",
    "In the Markdown cell below, answer the following:\n",
    "\n",
    "1. What fixes did you implement to ensure the code above ran? (2)\n",
    "2. Were there any PEP 8 or reproducibility issues in this cell? Explain your answer. (2)\n",
    "2. Why is the CRS of a spatial data object important when processing data? (2)\n",
    "3. Can you perform a **spatial join** or a **clip** on a two datasets that are in different CRS's? Explain your answer. (2)"
   ]
  },
  {
   "cell_type": "markdown",
   "metadata": {
    "deletable": false,
    "nbgrader": {
     "cell_type": "markdown",
     "checksum": "a93a6eaab6f49e4f19652e889073dcf6",
     "grade": true,
     "grade_id": "clipping-written-answer",
     "locked": false,
     "points": 8,
     "schema_version": 3,
     "solution": true,
     "task": false
    }
   },
   "source": [
    "YOUR ANSWER HERE"
   ]
  },
  {
   "cell_type": "code",
   "execution_count": null,
   "metadata": {
    "deletable": false,
    "editable": false,
    "nbgrader": {
     "cell_type": "code",
     "checksum": "0ff75cd734f444cdd66d72b8a046bfd9",
     "grade": true,
     "grade_id": "clipping-tests",
     "locked": true,
     "points": 4,
     "schema_version": 3,
     "solution": false,
     "task": false
    }
   },
   "outputs": [],
   "source": [
    "# Ignore this cell for autograded tests\n"
   ]
  },
  {
   "cell_type": "markdown",
   "metadata": {
    "deletable": false,
    "editable": false,
    "nbgrader": {
     "cell_type": "markdown",
     "checksum": "b1a0af112ae1bded5cfcb1e6337d6425",
     "grade": false,
     "grade_id": "summary-question",
     "locked": true,
     "schema_version": 3,
     "solution": false,
     "task": false
    }
   },
   "source": [
    "# Munging Insitu Data\n",
    "\n",
    "In the cell below, summarize the insitu data for the NEON SOAP field site to calculate max and mean. Rename those summary columns to: `insitu_max` and `insitu_mean`."
   ]
  },
  {
   "cell_type": "code",
   "execution_count": null,
   "metadata": {
    "deletable": false,
    "nbgrader": {
     "cell_type": "code",
     "checksum": "09b939ec46b5cfd3789926bdcf12f96a",
     "grade": false,
     "grade_id": "summary-answer",
     "locked": false,
     "schema_version": 3,
     "solution": true,
     "task": false
    }
   },
   "outputs": [],
   "source": [
    "# Import SOAP insitu data, calculate mean and max from insitu data, rename the calculated columns: insitu_max, insitu_mean\n",
    "\n",
    "# soap_base_path=os.path.join(\"spatial-vector-lidar\", \"california\", \"neon-soap-site\")\n",
    "# soap_insitu_path =os.path.join(soap_base_path, \"2013\",\"insitu\", \"veg-structure\", \"D17_2013_SOAP_vegStr.csv\")\n",
    "# soap_insitu = pd.read_csv(soap_insitu_path)\n",
    "# soap_insitu_mean_max=soap_insitu[[\"siteid\",\"plotid\",\"stemheight\"]]\n",
    "# soap_insitu_mean_max = soap_insitu_mean_max.groupby('plotid', as_index=False).stemheight.agg(['max', 'mean']).reset_index()\n",
    "# ##soap_insitu_mean_max = soap_insitu_mean_max.rename(columns={'in_max': 'insitu_max', 'in_mean': 'insitu_mean'})\n",
    "# YOUR CODE HERE\n",
    "raise NotImplementedError()"
   ]
  },
  {
   "cell_type": "markdown",
   "metadata": {
    "deletable": false,
    "editable": false,
    "nbgrader": {
     "cell_type": "markdown",
     "checksum": "85b78d37009124c4d8fd376f2777623d",
     "grade": false,
     "grade_id": "summary-written-question",
     "locked": true,
     "schema_version": 3,
     "solution": false,
     "task": false
    }
   },
   "source": [
    "## Question 6 (4 points)\n",
    "\n",
    "In the Markdown cell below, answer the following:\n",
    "1. What fixes did you implement to ensure the cell above ran?\n",
    "2. Were there any PEP 8 or reproducibility issues in this cell? Explain your answer."
   ]
  },
  {
   "cell_type": "markdown",
   "metadata": {
    "deletable": false,
    "nbgrader": {
     "cell_type": "markdown",
     "checksum": "a2c3dc1f35e2dfbabe5bb1062ba777eb",
     "grade": true,
     "grade_id": "summary-written-answer",
     "locked": false,
     "points": 4,
     "schema_version": 3,
     "solution": true,
     "task": false
    }
   },
   "source": [
    "YOUR ANSWER HERE"
   ]
  },
  {
   "cell_type": "code",
   "execution_count": null,
   "metadata": {
    "deletable": false,
    "editable": false,
    "nbgrader": {
     "cell_type": "code",
     "checksum": "a1d4e28ae81fe3ea92e94226830034a8",
     "grade": true,
     "grade_id": "summary-tests",
     "locked": true,
     "points": 4,
     "schema_version": 3,
     "solution": false,
     "task": false
    }
   },
   "outputs": [],
   "source": [
    "# Ignore this cell for autograded tests\n"
   ]
  },
  {
   "cell_type": "markdown",
   "metadata": {
    "deletable": false,
    "editable": false,
    "nbgrader": {
     "cell_type": "markdown",
     "checksum": "9e1ca0ede17b1b97a1149445c2ea2666",
     "grade": false,
     "grade_id": "bar-2",
     "locked": true,
     "schema_version": 3,
     "solution": false,
     "task": false
    }
   },
   "source": [
    "![Colored Bar](colored-bar.png)"
   ]
  },
  {
   "cell_type": "markdown",
   "metadata": {
    "deletable": false,
    "editable": false,
    "nbgrader": {
     "cell_type": "markdown",
     "checksum": "b1c71aaf5586947e3ad754008a44d028",
     "grade": false,
     "grade_id": "lidar-question",
     "locked": true,
     "schema_version": 3,
     "solution": false,
     "task": false
    }
   },
   "source": [
    "## Question 7 (4 points)\n",
    "\n",
    "In the Markdown cell below, answer the following questions.\n",
    "\n",
    "1. What `type` of Python object is `soap_lidar_chm`? (2)\n",
    "    * Your answer should look like this but be the correct type for the object above: **string**.\n",
    "2. Consider the original lidar data that you imported above to create the `soap_lidar_chm` object in Python. What type of file and it's associated extensions(s) are used to import the lidar data? \n",
    "    * **example answer: `text file`, `file.txt`** (2)\n",
    "\n",
    "NOTE: The SOAP object is not a text file! I just gave you examples so you could see what I was looking for here! "
   ]
  },
  {
   "cell_type": "markdown",
   "metadata": {
    "deletable": false,
    "nbgrader": {
     "cell_type": "markdown",
     "checksum": "2bc364ca4ae529277c5a18142b714fe2",
     "grade": true,
     "grade_id": "lidar-answer",
     "locked": false,
     "points": 4,
     "schema_version": 3,
     "solution": true,
     "task": false
    }
   },
   "source": [
    "YOUR ANSWER HERE"
   ]
  },
  {
   "cell_type": "markdown",
   "metadata": {
    "deletable": false,
    "editable": false,
    "nbgrader": {
     "cell_type": "markdown",
     "checksum": "1bba91483a08bb12213fe3a87297b5c6",
     "grade": false,
     "grade_id": "bar-3",
     "locked": true,
     "schema_version": 3,
     "solution": false,
     "task": false
    }
   },
   "source": [
    "![Colored Bar](colored-bar.png)"
   ]
  },
  {
   "cell_type": "markdown",
   "metadata": {
    "deletable": false,
    "editable": false,
    "nbgrader": {
     "cell_type": "markdown",
     "checksum": "0acf464b2be760076908b0c9e94f439b",
     "grade": false,
     "grade_id": "shapefile-questions",
     "locked": true,
     "schema_version": 3,
     "solution": false,
     "task": false
    }
   },
   "source": [
    "## Question 8 (6 points)\n",
    "\n",
    "1. What `type` of Python object is `county_roads`? (2)\n",
    "2. Consider the original roads layer that you imported above to create the `county_roads` object in Python. What type of file and it's associated extensions(s) are used to import the county_roads layer? (2)\n",
    "3. What are the 3 file extensions required for a shapefile to be opened in Python? (2)"
   ]
  },
  {
   "cell_type": "markdown",
   "metadata": {
    "deletable": false,
    "nbgrader": {
     "cell_type": "markdown",
     "checksum": "a7364a81915c4c203d8f5221db97daa0",
     "grade": true,
     "grade_id": "shapefile-answers",
     "locked": false,
     "points": 6,
     "schema_version": 3,
     "solution": true,
     "task": false
    }
   },
   "source": [
    "YOUR ANSWER HERE"
   ]
  },
  {
   "cell_type": "markdown",
   "metadata": {
    "deletable": false,
    "editable": false,
    "nbgrader": {
     "cell_type": "markdown",
     "checksum": "ae53303d97ad080304d5a100cc843fa8",
     "grade": false,
     "grade_id": "bar-4",
     "locked": true,
     "schema_version": 3,
     "solution": false,
     "task": false
    }
   },
   "source": [
    "![Colored Bar](colored-bar.png)"
   ]
  },
  {
   "cell_type": "markdown",
   "metadata": {
    "deletable": false,
    "editable": false,
    "nbgrader": {
     "cell_type": "markdown",
     "checksum": "bcd6b6944e11321707287f1f7c4c3c38",
     "grade": false,
     "grade_id": "insitu-question",
     "locked": true,
     "schema_version": 3,
     "solution": false,
     "task": false
    }
   },
   "source": [
    "## Question 9 (4 points)\n",
    "\n",
    "1. What `type` of Python object is `soap_insitu_mean_max`? (2)\n",
    "2. Consider the original insitu data that you imported above to create the `soap_insitu_mean_max` object in Python. What type of file and it's associated extensions(s) are used to import the insitu data. (2)"
   ]
  },
  {
   "cell_type": "markdown",
   "metadata": {
    "deletable": false,
    "nbgrader": {
     "cell_type": "markdown",
     "checksum": "47a8b207fdbceab22600fde4b5b8c7cb",
     "grade": true,
     "grade_id": "insitu-answer",
     "locked": false,
     "points": 4,
     "schema_version": 3,
     "solution": true,
     "task": false
    }
   },
   "source": [
    "YOUR ANSWER HERE"
   ]
  },
  {
   "cell_type": "markdown",
   "metadata": {
    "deletable": false,
    "editable": false,
    "nbgrader": {
     "cell_type": "markdown",
     "checksum": "544c5c78d0b5e11d6b655be445759e06",
     "grade": false,
     "grade_id": "bar-5",
     "locked": true,
     "schema_version": 3,
     "solution": false,
     "task": false
    }
   },
   "source": [
    "![Colored Bar](colored-bar.png)"
   ]
  }
 ],
 "metadata": {
  "kernelspec": {
   "display_name": "Python 3 (ipykernel)",
   "language": "python",
   "name": "python3"
  },
  "language_info": {
   "codemirror_mode": {
    "name": "ipython",
    "version": 3
   },
   "file_extension": ".py",
   "mimetype": "text/x-python",
   "name": "python",
   "nbconvert_exporter": "python",
   "pygments_lexer": "ipython3",
   "version": "3.8.12"
  },
  "toc": {
   "base_numbering": 1,
   "nav_menu": {},
   "number_sections": true,
   "sideBar": true,
   "skip_h1_title": false,
   "title_cell": "Table of Contents",
   "title_sidebar": "Contents",
   "toc_cell": false,
   "toc_position": {},
   "toc_section_display": true,
   "toc_window_display": true
  },
  "varInspector": {
   "cols": {
    "lenName": 16,
    "lenType": 16,
    "lenVar": 40
   },
   "kernels_config": {
    "python": {
     "delete_cmd_postfix": "",
     "delete_cmd_prefix": "del ",
     "library": "var_list.py",
     "varRefreshCmd": "print(var_dic_list())"
    },
    "r": {
     "delete_cmd_postfix": ") ",
     "delete_cmd_prefix": "rm(",
     "library": "var_list.r",
     "varRefreshCmd": "cat(var_dic_list()) "
    }
   },
   "types_to_exclude": [
    "module",
    "function",
    "builtin_function_or_method",
    "instance",
    "_Feature"
   ],
   "window_display": false
  }
 },
 "nbformat": 4,
 "nbformat_minor": 2
}
